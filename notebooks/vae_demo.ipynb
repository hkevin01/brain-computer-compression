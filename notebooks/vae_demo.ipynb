{
 "cells": [
  {
   "cell_type": "markdown",
   "id": "02f4d1b2",
   "metadata": {},
   "source": [
    "# VAE Compressor Demo\n",
    "Demonstration of the VAECompressor usage."
   ]
  },
  {
   "cell_type": "code",
   "execution_count": null,
   "id": "f9034f20",
   "metadata": {},
   "outputs": [],
   "source": [
    "import numpy as np\n",
    "from bci_compression.algorithms.deep_learning import create_vae_compressor\n",
    "\n",
    "# Generate synthetic signal\n",
    "signal = np.random.randn(8192).astype(np.float32)\n",
    "vae = create_vae_compressor(window=512, latent_dim=32, train_steps=5)\n",
    "compressed, meta = vae.compress(signal)\n",
    "print('Compressed bytes:', len(compressed), 'Ratio:', meta.get('compression_ratio'))\n",
    "recon = vae.decompress(compressed, meta)\n",
    "print('Reconstructed length:', recon.shape)"
   ]
  }
 ],
 "metadata": {
  "language_info": {
   "name": "python"
  }
 },
 "nbformat": 4,
 "nbformat_minor": 5
}
