{
 "cells": [
  {
   "cell_type": "markdown",
   "id": "00247f9a",
   "metadata": {},
   "source": [
    "# 🧠 Quick Environment Test\n",
    "\n",
    "Quick validation of the BCI compression environment."
   ]
  },
  {
   "cell_type": "code",
   "execution_count": null,
   "id": "fc3631ae",
   "metadata": {},
   "outputs": [],
   "source": [
    "# Basic imports test\n",
    "import sys\n",
    "import os\n",
    "import numpy as np\n",
    "from pathlib import Path\n",
    "\n",
    "print(\"✅ Basic imports successful\")\n",
    "print(f\"📍 Current directory: {Path.cwd()}\")\n",
    "print(f\"🐍 Python version: {sys.version}\")"
   ]
  },
  {
   "cell_type": "code",
   "execution_count": null,
   "id": "592bd5d4",
   "metadata": {},
   "outputs": [],
   "source": [
    "# Add src to path and test BCI imports\n",
    "project_root = Path.cwd().parent if 'notebooks' in str(Path.cwd()) else Path.cwd()\n",
    "src_path = project_root / 'src'\n",
    "if str(src_path) not in sys.path:\n",
    "    sys.path.insert(0, str(src_path))\n",
    "\n",
    "print(f\"📁 Project root: {project_root}\")\n",
    "print(f\"🔍 Source path: {src_path}\")\n",
    "print(f\"📦 Source exists: {src_path.exists()}\")\n",
    "\n",
    "# Test BCI package import\n",
    "try:\n",
    "    import bci_compression\n",
    "    print(\"✅ BCI compression package imported successfully\")\n",
    "    print(f\"📍 Package location: {bci_compression.__file__ if hasattr(bci_compression, '__file__') else 'Built-in'}\")\n",
    "except ImportError as e:\n",
    "    print(f\"❌ BCI package import failed: {e}\")\n",
    "\n",
    "# Check available modules\n",
    "bci_path = src_path / 'bci_compression'\n",
    "if bci_path.exists():\n",
    "    print(f\"\\n📦 BCI compression modules available:\")\n",
    "    for item in bci_path.iterdir():\n",
    "        if item.is_dir() and not item.name.startswith('__'):\n",
    "            print(f\"   📁 {item.name}/\")\n",
    "        elif item.suffix == '.py' and not item.name.startswith('__'):\n",
    "            print(f\"   📄 {item.name}\")"
   ]
  }
 ],
 "metadata": {
  "language_info": {
   "name": "python"
  }
 },
 "nbformat": 4,
 "nbformat_minor": 5
}
